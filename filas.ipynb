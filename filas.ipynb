{
 "cells": [
  {
   "cell_type": "code",
   "execution_count": 1,
   "metadata": {},
   "outputs": [],
   "source": [
    "from random import randint"
   ]
  },
  {
   "cell_type": "code",
   "execution_count": 67,
   "metadata": {},
   "outputs": [],
   "source": [
    "class Fila:\n",
    "    # Criação do construtor\n",
    "    def __init__(self):\n",
    "        self.items = []\n",
    "        \n",
    "    def enqueue(self, item):\n",
    "        self.items.append(item)\n",
    "\n",
    "    def dequeue(self):\n",
    "        return self.items.pop(0)\n",
    "\n",
    "    def is_empty(self):\n",
    "        return len(self.items) == 0\n",
    "\n",
    "    def size(self):\n",
    "        return len(self.items)"
   ]
  },
  {
   "cell_type": "markdown",
   "metadata": {},
   "source": [
    "1) Escreva um programa que cria uma fila vazia e insere os números de 1 a 5 nessa fila. Em \n",
    "seguida, remova os dois primeiros números da fila e exiba o conteúdo restante."
   ]
  },
  {
   "cell_type": "code",
   "execution_count": 68,
   "metadata": {},
   "outputs": [
    {
     "ename": "AttributeError",
     "evalue": "'dict' object has no attribute 'append'",
     "output_type": "error",
     "traceback": [
      "\u001b[1;31m---------------------------------------------------------------------------\u001b[0m",
      "\u001b[1;31mAttributeError\u001b[0m                            Traceback (most recent call last)",
      "Cell \u001b[1;32mIn[68], line 4\u001b[0m\n\u001b[0;32m      1\u001b[0m numeros1 \u001b[38;5;241m=\u001b[39m Fila()\n\u001b[0;32m      3\u001b[0m \u001b[38;5;28;01mfor\u001b[39;00m i \u001b[38;5;129;01min\u001b[39;00m \u001b[38;5;28mrange\u001b[39m(\u001b[38;5;241m1\u001b[39m,\u001b[38;5;241m6\u001b[39m):\n\u001b[1;32m----> 4\u001b[0m     \u001b[43mnumeros1\u001b[49m\u001b[38;5;241;43m.\u001b[39;49m\u001b[43menqueue\u001b[49m\u001b[43m(\u001b[49m\u001b[43mi\u001b[49m\u001b[43m)\u001b[49m\n\u001b[0;32m      6\u001b[0m \u001b[38;5;28mprint\u001b[39m(numeros1\u001b[38;5;241m.\u001b[39mitems)\n\u001b[0;32m      8\u001b[0m \u001b[38;5;28;01mfor\u001b[39;00m _ \u001b[38;5;129;01min\u001b[39;00m \u001b[38;5;28mrange\u001b[39m(\u001b[38;5;241m2\u001b[39m):\n",
      "Cell \u001b[1;32mIn[67], line 7\u001b[0m, in \u001b[0;36mFila.enqueue\u001b[1;34m(self, item)\u001b[0m\n\u001b[0;32m      6\u001b[0m \u001b[38;5;28;01mdef\u001b[39;00m \u001b[38;5;21menqueue\u001b[39m(\u001b[38;5;28mself\u001b[39m, item):\n\u001b[1;32m----> 7\u001b[0m     \u001b[38;5;28;43mself\u001b[39;49m\u001b[38;5;241;43m.\u001b[39;49m\u001b[43mitems\u001b[49m\u001b[38;5;241;43m.\u001b[39;49m\u001b[43mappend\u001b[49m(item)\n",
      "\u001b[1;31mAttributeError\u001b[0m: 'dict' object has no attribute 'append'"
     ]
    }
   ],
   "source": [
    "numeros1 = Fila()\n",
    "\n",
    "for i in range(1,6):\n",
    "    numeros1.enqueue(i)\n",
    "\n",
    "print(numeros1.items)\n",
    "\n",
    "for _ in range(2):\n",
    "    numeros1.dequeue()\n",
    "\n",
    "while not numeros1.is_empty():\n",
    "    print(numeros1.dequeue())"
   ]
  },
  {
   "cell_type": "markdown",
   "metadata": {},
   "source": [
    "2) Escreva um programa que cria uma fila vazia e insere 10 números aleatórios nessa fila. Em \n",
    "seguida, remova todos os números pares da fila e exiba o conteúdo restante"
   ]
  },
  {
   "cell_type": "code",
   "execution_count": 24,
   "metadata": {},
   "outputs": [
    {
     "name": "stdout",
     "output_type": "stream",
     "text": [
      "[54, 9, 61, 7, 6, 34, 65, 89, 83, 31]\n",
      "9\n",
      "61\n",
      "7\n",
      "65\n",
      "89\n",
      "83\n",
      "31\n"
     ]
    }
   ],
   "source": [
    "numeros2 = Fila()\n",
    "resultado = Fila()\n",
    "\n",
    "for _ in range(10):\n",
    "    numeros2.enqueue(randint(1,100))\n",
    "\n",
    "print(numeros2.items)\n",
    "\n",
    "while not numeros2.is_empty():\n",
    "    aux = numeros2.dequeue()\n",
    "    if aux % 2 != 0:\n",
    "        resultado.enqueue(aux)\n",
    "\n",
    "while not resultado.is_empty():\n",
    "    print(resultado.dequeue())"
   ]
  },
  {
   "cell_type": "markdown",
   "metadata": {},
   "source": [
    "3) Escreva um programa que cria uma fila vazia e insere os números de 1 a 10 nessa fila. Em \n",
    "seguida, exiba o elemento que está na posição 4 da fila"
   ]
  },
  {
   "cell_type": "code",
   "execution_count": 21,
   "metadata": {},
   "outputs": [
    {
     "name": "stdout",
     "output_type": "stream",
     "text": [
      "[0, 1, 2, 3, 4, 5, 6, 7, 8, 9]\n",
      "3\n"
     ]
    }
   ],
   "source": [
    "numeros3 = Fila()\n",
    "\n",
    "for i in range(10):\n",
    "    numeros3.enqueue(i)\n",
    "\n",
    "print(numeros3.items)\n",
    "\n",
    "for _ in range(3):\n",
    "    numeros3.dequeue()\n",
    "\n",
    "print(numeros3.dequeue())"
   ]
  },
  {
   "cell_type": "markdown",
   "metadata": {},
   "source": [
    "4) Inverter a fila"
   ]
  },
  {
   "cell_type": "code",
   "execution_count": 39,
   "metadata": {},
   "outputs": [
    {
     "name": "stdout",
     "output_type": "stream",
     "text": [
      "[7, 93, 25, 46, 88, 29, 43, 37, 60, 41]\n",
      "[41, 60, 37, 43, 29, 88, 46, 25, 93, 7]\n"
     ]
    }
   ],
   "source": [
    "def inverter(fila):\n",
    "    resultado = Fila()\n",
    "    \n",
    "    for i in fila.items[::-1]:\n",
    "        resultado.enqueue(i)\n",
    "\n",
    "    return resultado\n",
    "\n",
    "\n",
    "numeros4 = Fila()\n",
    "\n",
    "for _ in range(10):\n",
    "    numeros4.enqueue(randint(1,100))\n",
    "\n",
    "print(numeros4.items)\n",
    "print(inverter(numeros4).items)\n"
   ]
  },
  {
   "cell_type": "code",
   "execution_count": 37,
   "metadata": {},
   "outputs": [
    {
     "name": "stdout",
     "output_type": "stream",
     "text": [
      "[70, 52, 73, 45, 100, 4, 63, 74, 98, 93]\n",
      "[93, 98, 74, 63, 4, 100, 45, 73, 52, 70]\n"
     ]
    }
   ],
   "source": [
    "def inverter(fila):\n",
    "    aux = []\n",
    "    resultado = Fila()\n",
    "\n",
    "    while not fila.is_empty():\n",
    "        aux.append(fila.dequeue())\n",
    "            \n",
    "    for i in aux[::-1]:\n",
    "        resultado.enqueue(i)\n",
    "\n",
    "    return resultado\n",
    "\n",
    "\n",
    "numeros4 = Fila()\n",
    "\n",
    "for _ in range(10):\n",
    "    numeros4.enqueue(randint(1,100))\n",
    "\n",
    "print(numeros4.items)\n",
    "print(inverter(numeros4).items)\n"
   ]
  },
  {
   "cell_type": "markdown",
   "metadata": {},
   "source": [
    "5) Remover o elemento de maior valor (seja numérico ou caractere) "
   ]
  },
  {
   "cell_type": "code",
   "execution_count": 52,
   "metadata": {},
   "outputs": [
    {
     "name": "stdout",
     "output_type": "stream",
     "text": [
      "[96, 84, 39, 19, 29, 7, 69, 3, 98, 26]\n",
      "[96, 84, 39, 19, 29, 7, 69, 3, 26]\n"
     ]
    }
   ],
   "source": [
    "def removerMaior(fila):\n",
    "    aux = []\n",
    "    resultado = Fila()\n",
    "\n",
    "    while not fila.is_empty():\n",
    "        aux.append(fila.dequeue())\n",
    "    \n",
    "    aux.remove(max(aux))\n",
    "    \n",
    "    for i in aux:\n",
    "        resultado.enqueue(i)\n",
    "    return resultado\n",
    "\n",
    "numeros4 = Fila()\n",
    "\n",
    "for _ in range(10):\n",
    "    numeros4.enqueue(randint(1,100))\n",
    "\n",
    "print(numeros4.items)\n",
    "print(removerMaior(numeros4).items)"
   ]
  },
  {
   "cell_type": "code",
   "execution_count": 55,
   "metadata": {},
   "outputs": [
    {
     "name": "stdout",
     "output_type": "stream",
     "text": [
      "[88, 89, 52, 52, 79, 57, 52, 81, 38, 45]\n",
      "[88, 52, 52, 79, 57, 52, 81, 38, 45]\n"
     ]
    }
   ],
   "source": [
    "def removerMaior(fila):\n",
    "    maior = max(fila.items)\n",
    "    resultado = Fila()\n",
    "    while not fila.is_empty():\n",
    "        aux = fila.dequeue()\n",
    "        if aux != maior:\n",
    "            resultado.enqueue(aux)\n",
    "    return resultado\n",
    "\n",
    "numeros4 = Fila()\n",
    "\n",
    "for _ in range(10):\n",
    "    numeros4.enqueue(randint(1,100))\n",
    "\n",
    "print(numeros4.items)\n",
    "print(removerMaior(numeros4).items)"
   ]
  },
  {
   "cell_type": "markdown",
   "metadata": {},
   "source": [
    "6) Substituir o elemento de menor valor (seja numérico ou caractere) por outro valor maior \n",
    "e apresentar o resultado. "
   ]
  },
  {
   "cell_type": "code",
   "execution_count": 64,
   "metadata": {},
   "outputs": [
    {
     "name": "stdout",
     "output_type": "stream",
     "text": [
      "[16, 68, 51, 87, 96, 30, 64, 45, 37, 24]\n",
      "[18, 68, 51, 87, 96, 30, 64, 45, 37, 24]\n"
     ]
    }
   ],
   "source": [
    "def Mudarmenor(fila):\n",
    "    aux = []\n",
    "    resultado = Fila()\n",
    "    \n",
    "\n",
    "    while not fila.is_empty():\n",
    "        aux.append(fila.dequeue())\n",
    "  \n",
    "    menor = min(aux)\n",
    "    for i in aux:\n",
    "        if i == menor:\n",
    "            i += 2 \n",
    "        resultado.enqueue(i)\n",
    "    return resultado\n",
    "\n",
    "numeros4 = Fila()\n",
    "\n",
    "for _ in range(10):\n",
    "    numeros4.enqueue(randint(1,100))\n",
    "\n",
    "print(numeros4.items)\n",
    "print(Mudarmenor(numeros4).items)"
   ]
  },
  {
   "cell_type": "markdown",
   "metadata": {},
   "source": [
    "7) Organizar a fila de forma crescente (prioridade por idade)"
   ]
  },
  {
   "cell_type": "code",
   "execution_count": 65,
   "metadata": {},
   "outputs": [
    {
     "name": "stdout",
     "output_type": "stream",
     "text": [
      "[67, 59, 94, 36, 95, 70, 22, 75, 65, 23]\n",
      "[22, 23, 36, 59, 65, 67, 70, 75, 94, 95]\n"
     ]
    }
   ],
   "source": [
    "def ordena(fila):\n",
    "    aux = sorted(fila.items)\n",
    "    resultado = Fila()\n",
    "    for i in aux:\n",
    "        resultado.enqueue(i)\n",
    "    return resultado\n",
    "\n",
    "\n",
    "\n",
    "numeros4 = Fila()\n",
    "\n",
    "for _ in range(10):\n",
    "    numeros4.enqueue(randint(1,100))\n",
    "\n",
    "\n",
    "print(numeros4.items)\n",
    "print(ordena(numeros4).items)"
   ]
  }
 ],
 "metadata": {
  "kernelspec": {
   "display_name": "Python 3",
   "language": "python",
   "name": "python3"
  },
  "language_info": {
   "codemirror_mode": {
    "name": "ipython",
    "version": 3
   },
   "file_extension": ".py",
   "mimetype": "text/x-python",
   "name": "python",
   "nbconvert_exporter": "python",
   "pygments_lexer": "ipython3",
   "version": "3.12.2"
  }
 },
 "nbformat": 4,
 "nbformat_minor": 2
}
